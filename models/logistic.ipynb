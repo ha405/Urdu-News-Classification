{
 "cells": [
  {
   "cell_type": "markdown",
   "metadata": {},
   "source": [
    "<h1> LOGISTIC REGRESSION IMPLEMENTATION <h1>"
   ]
  },
  {
   "cell_type": "markdown",
   "metadata": {},
   "source": [
    "<h2> IMPORTS <h2>"
   ]
  },
  {
   "cell_type": "code",
   "execution_count": 1,
   "metadata": {},
   "outputs": [],
   "source": [
    "import pandas as pd\n",
    "import numpy as np\n",
    "import matplotlib.pyplot as plt\n",
    "# import cupy as cp\n",
    "import sklearn\n",
    "from sklearn.model_selection import train_test_split\n"
   ]
  },
  {
   "cell_type": "markdown",
   "metadata": {},
   "source": [
    "<h2> IMPORTS AND SPLIT <h2>"
   ]
  },
  {
   "cell_type": "code",
   "execution_count": 2,
   "metadata": {},
   "outputs": [],
   "source": [
    "import os\n",
    "os.chdir(r\"C:\\Users\\Salaar Masood\\OneDrive - Higher Education Commission\\ML (CS438)\\Proj\\Progress\\Urdu-News-Classification\") # change to whatever your dir is\n",
    "path = r\"dataset/cleaned_articles/cleaned_articles_without_numbers_v2.csv\"\n",
    "data = pd.read_csv(path)"
   ]
  },
  {
   "cell_type": "code",
   "execution_count": 3,
   "metadata": {},
   "outputs": [
    {
     "name": "stdout",
     "output_type": "stream",
     "text": [
      "X_train shape: (2000,)\n",
      "X_test shape: (501,)\n",
      "Y_train shape: (2000,)\n",
      "Y_test shape: (501,)\n"
     ]
    }
   ],
   "source": [
    "X = data['content']\n",
    "Y = data['gold_label']\n",
    "\n",
    "X_train, X_test, Y_train, Y_test = train_test_split(X, Y, test_size=0.2, random_state=501)\n",
    "print(f\"X_train shape: {X_train.shape}\")\n",
    "print(f\"X_test shape: {X_test.shape}\")\n",
    "print(f\"Y_train shape: {Y_train.shape}\")\n",
    "print(f\"Y_test shape: {Y_test.shape}\")\n",
    "\n",
    "\n",
    "category_to_label = {\n",
    "    \"entertainment\": 0,\n",
    "    \"business\": 1,\n",
    "    \"sports\": 2,\n",
    "    \"science-technology\": 3,\n",
    "    \"international\": 4\n",
    "}\n",
    "\n",
    "Y_train = [category_to_label[label.strip()] for label in Y_train if label.strip() in category_to_label]\n",
    "Y_test = [category_to_label[label.strip()] for label in Y_test if label.strip() in category_to_label]\n"
   ]
  },
  {
   "cell_type": "markdown",
   "metadata": {},
   "source": [
    "<h2> BAG OF WORDS <h2>"
   ]
  },
  {
   "cell_type": "code",
   "execution_count": 4,
   "metadata": {},
   "outputs": [],
   "source": [
    "class TextProcessor:\n",
    "    def __init__(self, dataset):\n",
    "        self.dataset = dataset\n",
    "        self.vocabulary = {}\n",
    "\n",
    "    def build_vocabulary(self):\n",
    "        unique_words = set()\n",
    "        for sentence in self.dataset:\n",
    "            unique_words.update(sentence.split())\n",
    "        self.vocabulary = {word: idx for idx, word in enumerate(sorted(unique_words))}\n",
    "        return self.vocabulary\n",
    "\n",
    "    def sentence_to_bow(self, sentence):\n",
    "        words = sentence.split()\n",
    "        vector = np.zeros(len(self.vocabulary))\n",
    "        for word in words:\n",
    "            if word in self.vocabulary:\n",
    "                index = self.vocabulary[word]\n",
    "                # print(index)\n",
    "                vector[index] += 1\n",
    "        return vector\n",
    "\n",
    "    def vectorize_sentences(self, X):\n",
    "        return [self.sentence_to_bow(sentence) for sentence in X]\n"
   ]
  },
  {
   "cell_type": "code",
   "execution_count": 5,
   "metadata": {},
   "outputs": [],
   "source": [
    "bag = TextProcessor(X_train)\n",
    "vocab = bag.build_vocabulary()\n",
    "train_x = bag.vectorize_sentences(X_train)\n",
    "test_x = bag.vectorize_sentences(X_test)\n",
    "# print(\"trainx\", train_x[0][12242])\n",
    "# print(vocab)"
   ]
  },
  {
   "cell_type": "markdown",
   "metadata": {},
   "source": [
    "<h2> IMPLEMENTATION <h2>"
   ]
  },
  {
   "cell_type": "code",
   "execution_count": null,
   "metadata": {},
   "outputs": [
    {
     "name": "stdout",
     "output_type": "stream",
     "text": [
      "Accuracy: 0.9641\n",
      "\n",
      "Classification Report:\n",
      "              precision    recall  f1-score   support\n",
      "\n",
      "           0       0.94      0.96      0.95       107\n",
      "           1       0.99      0.96      0.97        95\n",
      "           2       1.00      0.94      0.97        85\n",
      "           3       0.96      0.97      0.97       104\n",
      "           4       0.95      0.98      0.96       110\n",
      "\n",
      "    accuracy                           0.96       501\n",
      "   macro avg       0.97      0.96      0.96       501\n",
      "weighted avg       0.96      0.96      0.96       501\n",
      "\n"
     ]
    },
    {
     "data": {
      "image/png": "[encoded data removed]",
      "text/plain": [
       "<Figure size 800x600 with 2 Axes>"
      ]
     },
     "metadata": {},
     "output_type": "display_data"
    }
   ],
   "source": [
    "# logistical regression with L2 regularization\n",
    "import numpy as np\n",
    "from sklearn.metrics import accuracy_score, classification_report, confusion_matrix\n",
    "import matplotlib.pyplot as plt\n",
    "import seaborn as sns\n",
    "\n",
    "# ensure train_x and test_x are NumPy arrays\n",
    "train_x = np.array(train_x)\n",
    "test_x = np.array(test_x)\n",
    "\n",
    "class SoftmaxRegression:\n",
    "    def __init__(self, learning_rate=0.005, n_iterations=2000, regularization_strength=0.05, batch_size=32, dropout_rate=0.2):\n",
    "        self.learning_rate = learning_rate\n",
    "        self.n_iterations = n_iterations\n",
    "        self.regularization_strength = regularization_strength\n",
    "        self.batch_size = batch_size\n",
    "        self.dropout_rate = dropout_rate\n",
    "        self.weights = None\n",
    "        self.bias = None\n",
    "\n",
    "    def softmax(self, z):\n",
    "        exp_z = np.exp(z - np.max(z, axis=1, keepdims=True))\n",
    "        return exp_z / np.sum(exp_z, axis=1, keepdims=True)\n",
    "\n",
    "    def cross_entropy_loss(self, y_true, y_pred):\n",
    "        n_samples = y_true.shape[0]\n",
    "        log_likelihood = -np.log(y_pred[range(n_samples), y_true])\n",
    "        loss = np.sum(log_likelihood) / n_samples\n",
    "        reg_term = (self.regularization_strength / 2) * np.sum(self.weights ** 2)\n",
    "        return loss + reg_term\n",
    "\n",
    "    def fit(self, X, y):\n",
    "        n_samples, n_features = X.shape\n",
    "        n_classes = np.max(y) + 1\n",
    "        self.weights = np.random.randn(n_features, n_classes) * np.sqrt(2 / (n_features + n_classes))\n",
    "        self.bias = np.zeros(n_classes)\n",
    "\n",
    "\n",
    "        y_one_hot = np.zeros((n_samples, n_classes))\n",
    "        y_one_hot[np.arange(n_samples), y] = 1\n",
    "\n",
    "        for epoch in range(self.n_iterations):\n",
    "            indices = np.arange(n_samples)\n",
    "            np.random.shuffle(indices)\n",
    "            for i in range(0, n_samples, self.batch_size):\n",
    "                batch_indices = indices[i:i + self.batch_size]\n",
    "                X_batch = X[batch_indices]\n",
    "                y_batch = y_one_hot[batch_indices]\n",
    "\n",
    "                #dropout apply kardo to prevent overfitting\n",
    "                X_batch = X_batch * (np.random.rand(*X_batch.shape) > self.dropout_rate)\n",
    "\n",
    "\n",
    "                linear_model = np.dot(X_batch, self.weights) + self.bias\n",
    "                y_pred = self.softmax(linear_model)\n",
    "\n",
    "\n",
    "                dw = (1 / self.batch_size) * np.dot(X_batch.T, (y_pred - y_batch)) + self.regularization_strength * self.weights\n",
    "                db = (1 / self.batch_size) * np.sum(y_pred - y_batch, axis=0)\n",
    "\n",
    "\n",
    "                self.weights -= self.learning_rate * dw\n",
    "                self.bias -= self.learning_rate * db\n",
    "\n",
    "\n",
    "            # if epoch % 100 == 0:\n",
    "            #     loss = self.cross_entropy_loss(y, self.softmax(np.dot(X, self.weights) + self.bias))\n",
    "            #     print(f\"Epoch {epoch}, Loss: {loss:.4f}\")\n",
    "\n",
    "    def predict(self, X):\n",
    "        linear_model = np.dot(X, self.weights) + self.bias\n",
    "        y_pred = self.softmax(linear_model)\n",
    "        return np.argmax(y_pred, axis=1)\n",
    "\n",
    "\n",
    "# training and evaluating the model (yahan we can make changes to the hyperparameters)\n",
    "softmax_model = SoftmaxRegression(\n",
    "    learning_rate=0.001,  #isko change karkay dheksaktay hain to improve accuracy\n",
    "    n_iterations=5000,\n",
    "    regularization_strength=0.03,\n",
    "    batch_size=32,\n",
    "    dropout_rate=0.2\n",
    ")\n",
    "\n",
    "softmax_model.fit(train_x, Y_train)\n",
    "y_pred = softmax_model.predict(test_x)\n",
    "\n",
    "accuracy = accuracy_score(Y_test, y_pred)\n",
    "print(f\"Accuracy: {accuracy:.4f}\")\n",
    "print(\"\\nClassification Report:\")\n",
    "print(classification_report(Y_test, y_pred))\n",
    "\n",
    "conf_matrix = confusion_matrix(Y_test, y_pred)\n",
    "plt.figure(figsize=(8, 6))\n",
    "sns.heatmap(conf_matrix, annot=True, fmt='d', cmap='Blues', \n",
    "            xticklabels=np.unique(Y_test), yticklabels=np.unique(Y_test))\n",
    "plt.xlabel('Predicted Labels')\n",
    "plt.ylabel('True Labels')\n",
    "plt.title('Confusion Matrix Heatmap')\n",
    "plt.show()\n"
   ]
  }
 ],
 "metadata": {
  "kernelspec": {
   "display_name": "Python 3",
   "language": "python",
   "name": "python3"
  },
  "language_info": {
   "codemirror_mode": {
    "name": "ipython",
    "version": 3
   },
   "file_extension": ".py",
   "mimetype": "text/x-python",
   "name": "python",
   "nbconvert_exporter": "python",
   "pygments_lexer": "ipython3",
   "version": "3.12.1"
  }
 },
 "nbformat": 4,
 "nbformat_minor": 2
}
