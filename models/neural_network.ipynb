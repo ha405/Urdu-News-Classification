{
 "cells": [
  {
   "cell_type": "markdown",
   "metadata": {},
   "source": [
    "<h1> NEURAL NETWORK IMPLEMENTATION <h1>"
   ]
  },
  {
   "cell_type": "markdown",
   "metadata": {},
   "source": [
    "<h2> IMPORTS <h2>"
   ]
  },
  {
   "cell_type": "code",
   "execution_count": 2,
   "metadata": {},
   "outputs": [],
   "source": [
    "import pandas as pd\n",
    "import numpy as np\n",
    "import matplotlib.pyplot as plt\n",
    "# import cupy as cp\n",
    "import sklearn\n",
    "from sklearn.model_selection import train_test_split\n"
   ]
  },
  {
   "cell_type": "markdown",
   "metadata": {},
   "source": [
    "<h2> IMPORTS AND SPLIT <h2>"
   ]
  },
  {
   "cell_type": "code",
   "execution_count": 3,
   "metadata": {},
   "outputs": [],
   "source": [
    "import os\n",
    "os.chdir(r\"C:\\Users\\Salaar Masood\\OneDrive - Higher Education Commission\\ML (CS438)\\Proj\\Progress\\Urdu-News-Classification\") # change to whatever your dir is\n",
    "path = r\"dataset/cleaned_articles/cleaned_articles_with_numbers_v2.csv\"\n",
    "data = pd.read_csv(path)"
   ]
  },
  {
   "cell_type": "code",
   "execution_count": 4,
   "metadata": {},
   "outputs": [
    {
     "name": "stdout",
     "output_type": "stream",
     "text": [
      "X_train shape: (2000,)\n",
      "X_test shape: (501,)\n",
      "Y_train shape: (2000,)\n",
      "Y_test shape: (501,)\n"
     ]
    }
   ],
   "source": [
    "X = data['content']\n",
    "Y = data['gold_label']\n",
    "\n",
    "X_train, X_test, Y_train, Y_test = train_test_split(X, Y, test_size=0.2, random_state=42)\n",
    "print(f\"X_train shape: {X_train.shape}\")\n",
    "print(f\"X_test shape: {X_test.shape}\")\n",
    "print(f\"Y_train shape: {Y_train.shape}\")\n",
    "print(f\"Y_test shape: {Y_test.shape}\")\n",
    "\n",
    "\n",
    "category_to_label = {\n",
    "    \"entertainment\": 0,\n",
    "    \"business\": 1,\n",
    "    \"sports\": 2,\n",
    "    \"science-technology\": 3,\n",
    "    \"international\": 4\n",
    "}\n",
    "\n",
    "Y_train = [category_to_label[label.strip()] for label in Y_train if label.strip() in category_to_label]\n",
    "Y_test = [category_to_label[label.strip()] for label in Y_test if label.strip() in category_to_label]\n"
   ]
  },
  {
   "cell_type": "markdown",
   "metadata": {},
   "source": [
    "<h2> BAG OF WORDS <h2>"
   ]
  },
  {
   "cell_type": "code",
   "execution_count": 5,
   "metadata": {},
   "outputs": [],
   "source": [
    "class TextProcessor:\n",
    "    def __init__(self, dataset):\n",
    "        self.dataset = dataset\n",
    "        self.vocabulary = {}\n",
    "\n",
    "    def build_vocabulary(self):\n",
    "        unique_words = set()\n",
    "        for sentence in self.dataset:\n",
    "            unique_words.update(sentence.split())\n",
    "        self.vocabulary = {word: idx for idx, word in enumerate(sorted(unique_words))}\n",
    "        return self.vocabulary\n",
    "\n",
    "    def sentence_to_bow(self, sentence):\n",
    "        words = sentence.split()\n",
    "        vector = np.zeros(len(self.vocabulary))\n",
    "        for word in words:\n",
    "            if word in self.vocabulary:\n",
    "                index = self.vocabulary[word]\n",
    "                # print(index)\n",
    "                vector[index] += 1\n",
    "        return vector\n",
    "\n",
    "    def vectorize_sentences(self, X):\n",
    "        return [self.sentence_to_bow(sentence) for sentence in X]\n"
   ]
  },
  {
   "cell_type": "code",
   "execution_count": 6,
   "metadata": {},
   "outputs": [],
   "source": [
    "bag = TextProcessor(X_train)\n",
    "vocab = bag.build_vocabulary()\n",
    "train_x = bag.vectorize_sentences(X_train)\n",
    "test_x = bag.vectorize_sentences(X_test)\n",
    "# print(\"trainx\", train_x[0][12242])\n",
    "# print(vocab)"
   ]
  },
  {
   "cell_type": "markdown",
   "metadata": {},
   "source": [
    "<h2> NEURAL NETWORK USING PYTORCH <h2>"
   ]
  },
  {
   "cell_type": "code",
   "execution_count": 7,
   "metadata": {},
   "outputs": [],
   "source": [
    "import torch\n",
    "from torch.utils.data import DataLoader, TensorDataset\n",
    "train_x_t = torch.tensor(train_x, dtype=torch.float32)\n",
    "test_x_t = torch.tensor(test_x, dtype=torch.float32)\n",
    "Y_train_t = torch.tensor(Y_train, dtype=torch.long)\n",
    "Y_test_t = torch.tensor(Y_test, dtype=torch.long)\n",
    "\n",
    "train_dataset = TensorDataset(train_x_t,Y_train_t)\n",
    "test_dataset = TensorDataset(test_x_t,Y_test_t)\n",
    "\n",
    "train_loader = DataLoader(train_dataset, batch_size=64,shuffle=True)\n",
    "test_loader = DataLoader(test_dataset,batch_size=64,shuffle=False)"
   ]
  },
  {
   "cell_type": "code",
   "execution_count": 8,
   "metadata": {},
   "outputs": [],
   "source": [
    "import torch.nn as nn\n",
    "import torch.nn.functional as F\n",
    "\n",
    "class NewsClassifier(nn.Module):\n",
    "    def __init__(self, input_size, num_classes):\n",
    "        super(NewsClassifier, self).__init__()\n",
    "        self.fc1 = nn.Linear(input_size, 512)    \n",
    "        self.fc2 = nn.Linear(512, 256)\n",
    "        self.dropout = nn.Dropout(0.9) \n",
    "        self.dropout1 = nn.Dropout(0.1)         \n",
    "        self.fc3 = nn.Linear(256, 128)\n",
    "        self.fc4 = nn.Linear(128, num_classes)  \n",
    "\n",
    "    def forward(self, x):\n",
    "        x = F.relu(self.fc1(x))\n",
    "        x = self.dropout(x)\n",
    "        x = F.relu(self.fc2(x))\n",
    "        # x = self.dropout1(x)\n",
    "        x = F.relu(self.fc3(x))\n",
    "        # x = self.dropout(x)\n",
    "        x = self.fc4(x)\n",
    "        return x\n"
   ]
  },
  {
   "cell_type": "code",
   "execution_count": 9,
   "metadata": {},
   "outputs": [],
   "source": [
    "input_size = train_x_t.shape[1]\n",
    "num_classes = len(Y_train_t.unique())\n",
    "model = NewsClassifier(input_size, num_classes)\n",
    "criterion = nn.CrossEntropyLoss()\n",
    "optimizer = torch.optim.Adam(model.parameters(), lr=0.001)"
   ]
  },
  {
   "cell_type": "code",
   "execution_count": 10,
   "metadata": {},
   "outputs": [
    {
     "name": "stdout",
     "output_type": "stream",
     "text": [
      "Epoch [1/20], Loss: 1.3403, Train Accuracy: 48.90%\n",
      "Epoch [2/20], Loss: 0.5495, Train Accuracy: 82.85%\n",
      "Epoch [3/20], Loss: 0.3711, Train Accuracy: 89.55%\n",
      "Epoch [4/20], Loss: 0.2605, Train Accuracy: 92.35%\n",
      "Epoch [5/20], Loss: 0.1850, Train Accuracy: 95.15%\n",
      "Epoch [6/20], Loss: 0.1519, Train Accuracy: 95.30%\n",
      "Epoch [7/20], Loss: 0.1573, Train Accuracy: 95.55%\n",
      "Epoch [8/20], Loss: 0.1273, Train Accuracy: 96.00%\n",
      "Epoch [9/20], Loss: 0.1024, Train Accuracy: 97.00%\n",
      "Epoch [10/20], Loss: 0.1231, Train Accuracy: 96.05%\n",
      "Epoch [11/20], Loss: 0.1010, Train Accuracy: 97.35%\n",
      "Epoch [12/20], Loss: 0.0759, Train Accuracy: 97.35%\n",
      "Epoch [13/20], Loss: 0.0885, Train Accuracy: 97.50%\n",
      "Epoch [14/20], Loss: 0.0766, Train Accuracy: 97.80%\n",
      "Epoch [15/20], Loss: 0.0783, Train Accuracy: 97.50%\n",
      "Epoch [16/20], Loss: 0.0641, Train Accuracy: 98.50%\n",
      "Epoch [17/20], Loss: 0.0468, Train Accuracy: 98.50%\n",
      "Epoch [18/20], Loss: 0.0611, Train Accuracy: 98.20%\n",
      "Epoch [19/20], Loss: 0.0734, Train Accuracy: 98.10%\n",
      "Epoch [20/20], Loss: 0.0724, Train Accuracy: 98.10%\n"
     ]
    }
   ],
   "source": [
    "num_epochs = 20\n",
    "train_losses = []  \n",
    "train_accuracies = []  \n",
    "\n",
    "for epoch in range(num_epochs):\n",
    "    model.train()\n",
    "    total_loss = 0\n",
    "    correct_predictions = 0\n",
    "    total_samples = 0\n",
    "\n",
    "    for batch_x, batch_y in train_loader:\n",
    "        output = model(batch_x)\n",
    "        loss = criterion(output, batch_y)\n",
    "        optimizer.zero_grad()\n",
    "        loss.backward()\n",
    "        optimizer.step()\n",
    "\n",
    "        total_loss += loss.item()\n",
    "        _, predicted = torch.max(output, 1)\n",
    "        correct_predictions += (predicted == batch_y).sum().item()\n",
    "        total_samples += batch_y.size(0)\n",
    "\n",
    "    avg_loss = total_loss / len(train_loader)\n",
    "    accuracy = correct_predictions / total_samples * 100\n",
    "\n",
    "    # Store loss and accuracy for this epoch\n",
    "    train_losses.append(avg_loss)\n",
    "    train_accuracies.append(accuracy)\n",
    "\n",
    "    print(f\"Epoch [{epoch+1}/{num_epochs}], Loss: {avg_loss:.4f}, Train Accuracy: {accuracy:.2f}%\")\n"
   ]
  },
  {
   "cell_type": "markdown",
   "metadata": {},
   "source": [
    "<h2> PLOTTING TRAINING LOSS AND ACCURACY <h2>"
   ]
  },
  {
   "cell_type": "code",
   "execution_count": 11,
   "metadata": {},
   "outputs": [
    {
     "data": {
      "image/png": "[encoded data removed]",
      "text/plain": [
       "<Figure size 640x480 with 1 Axes>"
      ]
     },
     "metadata": {},
     "output_type": "display_data"
    },
    {
     "data": {
      "image/png": "[encoded data removed]",
      "text/plain": [
       "<Figure size 640x480 with 1 Axes>"
      ]
     },
     "metadata": {},
     "output_type": "display_data"
    }
   ],
   "source": [
    "import matplotlib.pyplot as plt\n",
    "\n",
    "epochs = range(1, num_epochs + 1)\n",
    "\n",
    "# Plotting Loss\n",
    "plt.plot(epochs, train_losses, label='Training Loss')\n",
    "plt.xlabel('Epochs')\n",
    "plt.ylabel('Loss')\n",
    "plt.title('Training Loss Over Epochs')\n",
    "plt.legend()\n",
    "plt.show()\n",
    "\n",
    "# Plotting Accuracy\n",
    "plt.plot(epochs, train_accuracies, label='Training Accuracy')\n",
    "plt.xlabel('Epochs')\n",
    "plt.ylabel('Accuracy (%)')\n",
    "plt.title('Training Accuracy Over Epochs')\n",
    "plt.legend()\n",
    "plt.show()\n"
   ]
  },
  {
   "cell_type": "markdown",
   "metadata": {},
   "source": [
    "<h2> EVALUATE ON TEST-DATA <h2>"
   ]
  },
  {
   "cell_type": "code",
   "execution_count": 12,
   "metadata": {},
   "outputs": [
    {
     "name": "stdout",
     "output_type": "stream",
     "text": [
      "Test Accuracy: 97.2056%\n",
      "Precision: 0.9728\n",
      "Recall: 0.9721\n",
      "F1 Score: 0.9722\n",
      "\n",
      "Confusion Matrix:\n",
      "[[ 97   0   0   0   1]\n",
      " [  0 107   2   4   0]\n",
      " [  0   0  93   2   0]\n",
      " [  0   1   0 101   1]\n",
      " [  1   0   0   2  89]]\n"
     ]
    }
   ],
   "source": [
    "from sklearn.metrics import precision_score, recall_score, f1_score, confusion_matrix\n",
    "\n",
    "def evaluate_model(loader, model):\n",
    "    model.eval()\n",
    "    all_preds = []\n",
    "    all_labels = []\n",
    "    \n",
    "    with torch.no_grad():\n",
    "        for batch_x, batch_y in loader:\n",
    "            output = model(batch_x)\n",
    "            _, predicted = torch.max(output, 1)\n",
    "            all_preds.extend(predicted.cpu().numpy())\n",
    "            all_labels.extend(batch_y.cpu().numpy())\n",
    "\n",
    "    # Calculate accuracy\n",
    "    accuracy = (np.array(all_preds) == np.array(all_labels)).sum() / len(all_labels)\n",
    "\n",
    "    # Calculate precision, recall, F1 score, and confusion matrix\n",
    "    precision = precision_score(all_labels, all_preds, average='weighted')\n",
    "    recall = recall_score(all_labels, all_preds, average='weighted')\n",
    "    f1 = f1_score(all_labels, all_preds, average='weighted')\n",
    "    conf_matrix = confusion_matrix(all_labels, all_preds)\n",
    "\n",
    "    print(f\"Test Accuracy: {accuracy*100:.4f}%\")\n",
    "    print(f\"Precision: {precision:.4f}\")\n",
    "    print(f\"Recall: {recall:.4f}\")\n",
    "    print(f\"F1 Score: {f1:.4f}\")\n",
    "    print(\"\\nConfusion Matrix:\")\n",
    "    print(conf_matrix)\n",
    "\n",
    "    return accuracy, precision, recall, f1, conf_matrix\n",
    "\n",
    "# Call the function\n",
    "accuracy, precision, recall, f1, conf_matrix = evaluate_model(test_loader, model)"
   ]
  }
 ],
 "metadata": {
  "kernelspec": {
   "display_name": "Python 3",
   "language": "python",
   "name": "python3"
  },
  "language_info": {
   "codemirror_mode": {
    "name": "ipython",
    "version": 3
   },
   "file_extension": ".py",
   "mimetype": "text/x-python",
   "name": "python",
   "nbconvert_exporter": "python",
   "pygments_lexer": "ipython3",
   "version": "3.12.1"
  }
 },
 "nbformat": 4,
 "nbformat_minor": 2
}
