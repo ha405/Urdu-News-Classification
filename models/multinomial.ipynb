{
 "cells": [
  {
   "cell_type": "markdown",
   "metadata": {},
   "source": [
    "<h1> MULTINOMIAL NAIVE BAYES IMPLEMENTATION <h1>"
   ]
  },
  {
   "cell_type": "markdown",
   "metadata": {},
   "source": [
    "<h2> IMPORTS <h2>"
   ]
  },
  {
   "cell_type": "code",
   "execution_count": 1,
   "metadata": {},
   "outputs": [],
   "source": [
    "import pandas as pd\n",
    "import numpy as np\n",
    "import matplotlib.pyplot as plt\n",
    "# import cupy as cp\n",
    "import sklearn\n",
    "from sklearn.model_selection import train_test_split\n"
   ]
  },
  {
   "cell_type": "markdown",
   "metadata": {},
   "source": [
    "<h2> IMPORTS AND SPLIT <h2>"
   ]
  },
  {
   "cell_type": "code",
   "execution_count": 2,
   "metadata": {},
   "outputs": [],
   "source": [
    "import os\n",
    "os.chdir(r\"C:\\Users\\Salaar Masood\\OneDrive - Higher Education Commission\\ML (CS438)\\Proj\\Progress\\Urdu-News-Classification\") # change to whatever your dir is\n",
    "path = r\"dataset/cleaned_articles/cleaned_articles_without_numbers_v2.csv\"\n",
    "data = pd.read_csv(path)"
   ]
  },
  {
   "cell_type": "code",
   "execution_count": 3,
   "metadata": {},
   "outputs": [
    {
     "name": "stdout",
     "output_type": "stream",
     "text": [
      "X_train shape: (2000,)\n",
      "X_test shape: (501,)\n",
      "Y_train shape: (2000,)\n",
      "Y_test shape: (501,)\n"
     ]
    }
   ],
   "source": [
    "X = data['content']\n",
    "Y = data['gold_label']\n",
    "\n",
    "X_train, X_test, Y_train, Y_test = train_test_split(X, Y, test_size=0.2, random_state=501)\n",
    "print(f\"X_train shape: {X_train.shape}\")\n",
    "print(f\"X_test shape: {X_test.shape}\")\n",
    "print(f\"Y_train shape: {Y_train.shape}\")\n",
    "print(f\"Y_test shape: {Y_test.shape}\")\n",
    "\n",
    "\n",
    "category_to_label = {\n",
    "    \"entertainment\": 0,\n",
    "    \"business\": 1,\n",
    "    \"sports\": 2,\n",
    "    \"science-technology\": 3,\n",
    "    \"international\": 4\n",
    "}\n",
    "\n",
    "Y_train = [category_to_label[label.strip()] for label in Y_train if label.strip() in category_to_label]\n",
    "Y_test = [category_to_label[label.strip()] for label in Y_test if label.strip() in category_to_label]\n"
   ]
  },
  {
   "cell_type": "markdown",
   "metadata": {},
   "source": [
    "<h2> BAG OF WORDS <h2>"
   ]
  },
  {
   "cell_type": "code",
   "execution_count": 4,
   "metadata": {},
   "outputs": [],
   "source": [
    "class TextProcessor:\n",
    "    def __init__(self, dataset):\n",
    "        self.dataset = dataset\n",
    "        self.vocabulary = {}\n",
    "\n",
    "    def build_vocabulary(self):\n",
    "        unique_words = set()\n",
    "        for sentence in self.dataset:\n",
    "            unique_words.update(sentence.split())\n",
    "        self.vocabulary = {word: idx for idx, word in enumerate(sorted(unique_words))}\n",
    "        return self.vocabulary\n",
    "\n",
    "    def sentence_to_bow(self, sentence):\n",
    "        words = sentence.split()\n",
    "        vector = np.zeros(len(self.vocabulary))\n",
    "        for word in words:\n",
    "            if word in self.vocabulary:\n",
    "                index = self.vocabulary[word]\n",
    "                # print(index)\n",
    "                vector[index] += 1\n",
    "        return vector\n",
    "\n",
    "    def vectorize_sentences(self, X):\n",
    "        return [self.sentence_to_bow(sentence) for sentence in X]\n"
   ]
  },
  {
   "cell_type": "code",
   "execution_count": 5,
   "metadata": {},
   "outputs": [],
   "source": [
    "bag = TextProcessor(X_train)\n",
    "vocab = bag.build_vocabulary()\n",
    "train_x = bag.vectorize_sentences(X_train)\n",
    "test_x = bag.vectorize_sentences(X_test)\n",
    "# print(\"trainx\", train_x[0][12242])\n",
    "# print(vocab)"
   ]
  },
  {
   "cell_type": "markdown",
   "metadata": {},
   "source": [
    "<h2> IMPLEMENTATION <h2>"
   ]
  },
  {
   "cell_type": "code",
   "execution_count": 6,
   "metadata": {},
   "outputs": [
    {
     "name": "stdout",
     "output_type": "stream",
     "text": [
      "Confusion Matrix:\n",
      "[[105   1   0   1   0]\n",
      " [  0  92   0   2   1]\n",
      " [  1   0  83   0   1]\n",
      " [  1   0   0 103   0]\n",
      " [  1   0   0   1 108]]\n",
      "Weighted Precision: 0.98\n",
      "Weighted Recall: 0.98\n",
      "Weighted F1 Score: 0.98\n",
      "Class 0: Precision=0.97, Recall=0.98, F1 Score=0.98, Support=107\n",
      "Class 1: Precision=0.99, Recall=0.97, F1 Score=0.98, Support=95\n",
      "Class 2: Precision=1.00, Recall=0.98, F1 Score=0.99, Support=85\n",
      "Class 3: Precision=0.96, Recall=0.99, F1 Score=0.98, Support=104\n",
      "Class 4: Precision=0.98, Recall=0.98, F1 Score=0.98, Support=110\n",
      "Training Accuracy: 0.9830\n",
      "Test Accuracy: 0.9800\n"
     ]
    }
   ],
   "source": [
    "#NumPy arrays\n",
    "train_x = np.array(train_x)\n",
    "test_x = np.array(test_x)\n",
    "Y_train = np.array(Y_train)\n",
    "Y_test = np.array(Y_test)\n",
    "\n",
    "class NaiveBayes:\n",
    "    def __init__(self, alpha=1):\n",
    "        self.alpha = alpha \n",
    "\n",
    "    def train(self, X_train, y_train):\n",
    "        \"\"\"\n",
    "        Train the Naive Bayes classifier.\n",
    "        X_train: Matrix of shape (n_samples, n_features), binary or count data.\n",
    "        y_train: Array of shape (n_samples,), class labels for the training data.\n",
    "        \"\"\"\n",
    "        n_samples, n_features = X_train.shape\n",
    "        self.classes = np.unique(y_train)  # The unique class labels\n",
    "        n_classes = len(self.classes)\n",
    "        \n",
    "        self.log_prior = np.zeros(n_classes)  # Log priors P(c)\n",
    "        self.log_likelihood = np.zeros((n_classes, n_features))  # Log likelihoods P(w | c)\n",
    "        \n",
    "        for idx, c in enumerate(self.classes):\n",
    "            X_c = X_train[y_train == c]\n",
    "            self.log_prior[idx] = np.log(X_c.shape[0]) - np.log(n_samples)\n",
    "            \n",
    "            word_counts = X_c.sum(axis=0)  # Count occurrences of each word in class c\n",
    "            total_count = word_counts.sum()  # Total words in documents of class c\n",
    "            \n",
    "            #Laplace smoothing\n",
    "            self.log_likelihood[idx, :] = np.log(word_counts + self.alpha) - np.log(total_count + self.alpha * n_features)\n",
    "\n",
    "    def predict(self, X_test):\n",
    "        \"\"\"\n",
    "        Predict the class labels for test data.\n",
    "        X_test: Matrix of shape (n_samples, n_features), binary or count data.\n",
    "        \"\"\"\n",
    "        n_samples = X_test.shape[0]\n",
    "        n_classes = len(self.classes)\n",
    "        log_probs = np.zeros((n_samples, n_classes))  # Store log probabilities for each class\n",
    "        \n",
    "        for idx in range(n_classes):\n",
    "            log_probs[:, idx] = X_test @ self.log_likelihood[idx, :] + self.log_prior[idx]\n",
    "        \n",
    "        return self.classes[np.argmax(log_probs, axis=1)]\n",
    "\n",
    "nb = NaiveBayes(alpha=0.09)\n",
    "nb.train(train_x, Y_train)\n",
    "\n",
    "y_pred_train = nb.predict(train_x)\n",
    "y_pred_test = nb.predict(test_x)\n",
    "\n",
    "def confusion_matrix(y_true, y_pred, labels):\n",
    "    n_classes = len(labels)\n",
    "    label_to_index = {label: idx for idx, label in enumerate(labels)}\n",
    "    conf_matrix = np.zeros((n_classes, n_classes), dtype=int)\n",
    "    for t, p in zip(y_true, y_pred):\n",
    "        if t in label_to_index and p in label_to_index:\n",
    "            i = label_to_index[t]\n",
    "            j = label_to_index[p]\n",
    "            conf_matrix[i, j] += 1\n",
    "    return conf_matrix\n",
    "\n",
    "def precision_recall_f1(conf_matrix):\n",
    "    tp = np.diag(conf_matrix)\n",
    "    fp = np.sum(conf_matrix, axis=0) - tp\n",
    "    fn = np.sum(conf_matrix, axis=1) - tp\n",
    "    # Add epsilon to avoid division by zero\n",
    "    epsilon = 1e-10\n",
    "    precision = tp / (tp + fp + epsilon)\n",
    "    recall = tp / (tp + fn + epsilon)\n",
    "    f1 = 2 * precision * recall / (precision + recall + epsilon)\n",
    "    return precision, recall, f1\n",
    "\n",
    "labels = np.unique(Y_train)\n",
    "conf_matrix = confusion_matrix(Y_test, y_pred_test, labels)\n",
    "print(\"Confusion Matrix:\")\n",
    "print(conf_matrix)\n",
    "\n",
    "precision, recall, f1 = precision_recall_f1(conf_matrix)\n",
    "support = np.sum(conf_matrix, axis=1)\n",
    "\n",
    "weighted_precision = np.sum(precision * support) / np.sum(support)\n",
    "weighted_recall = np.sum(recall * support) / np.sum(support)\n",
    "weighted_f1 = np.sum(f1 * support) / np.sum(support)\n",
    "\n",
    "print(f\"Weighted Precision: {weighted_precision:.2f}\")\n",
    "print(f\"Weighted Recall: {weighted_recall:.2f}\")\n",
    "print(f\"Weighted F1 Score: {weighted_f1:.2f}\")\n",
    "\n",
    "for idx, label in enumerate(labels):\n",
    "    print(f\"Class {label}: Precision={precision[idx]:.2f}, Recall={recall[idx]:.2f}, F1 Score={f1[idx]:.2f}, Support={support[idx]}\")\n",
    "\n",
    "train_accuracy = np.mean(y_pred_train == Y_train)\n",
    "test_accuracy = np.mean(y_pred_test == Y_test)\n",
    "print(f\"Training Accuracy: {train_accuracy:.4f}\")\n",
    "print(f\"Test Accuracy: {test_accuracy:.4f}\")"
   ]
  }
 ],
 "metadata": {
  "kernelspec": {
   "display_name": "Python 3",
   "language": "python",
   "name": "python3"
  },
  "language_info": {
   "codemirror_mode": {
    "name": "ipython",
    "version": 3
   },
   "file_extension": ".py",
   "mimetype": "text/x-python",
   "name": "python",
   "nbconvert_exporter": "python",
   "pygments_lexer": "ipython3",
   "version": "3.12.1"
  }
 },
 "nbformat": 4,
 "nbformat_minor": 2
}
