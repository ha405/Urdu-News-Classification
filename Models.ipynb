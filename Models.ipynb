{
  "cells": [
    {
      "cell_type": "markdown",
      "metadata": {
        "id": "view-in-github",
        "colab_type": "text"
      },
      "source": [
        "<a href=\"https://colab.research.google.com/github/ha405/Urdu-News-Classification/blob/main/Models.ipynb\" target=\"_parent\"><img src=\"https://colab.research.google.com/assets/colab-badge.svg\" alt=\"Open In Colab\"/></a>"
      ]
    },
    {
      "cell_type": "markdown",
      "metadata": {
        "id": "8OIEvbbGZo7h"
      },
      "source": [
        "<h1> MODEL IMPLEMENTATIONS <h1>"
      ]
    },
    {
      "cell_type": "markdown",
      "metadata": {
        "id": "ESAY3koyZo7m"
      },
      "source": [
        "<h2> Imports <h2>"
      ]
    },
    {
      "cell_type": "code",
      "execution_count": 17,
      "metadata": {
        "id": "kES0rL2jZo7n"
      },
      "outputs": [],
      "source": [
        "import pandas as pd\n",
        "import numpy as np\n",
        "import matplotlib.pyplot as plt\n",
        "# import cupy as cp\n",
        "import sklearn"
      ]
    },
    {
      "cell_type": "markdown",
      "metadata": {
        "id": "GquuMOb7Zo7p"
      },
      "source": [
        "<h2> Import and Split <h2>"
      ]
    },
    {
      "cell_type": "code",
      "execution_count": 18,
      "metadata": {
        "id": "uHVdkP8BZo7p"
      },
      "outputs": [],
      "source": [
        "path = r\"/articles.csv\"\n",
        "data = pd.read_csv(path)\n",
        "# print(data.head())"
      ]
    },
    {
      "cell_type": "code",
      "execution_count": 19,
      "metadata": {
        "colab": {
          "base_uri": "https://localhost:8080/"
        },
        "id": "qalIG_0FZo7q",
        "outputId": "551c98c6-9445-4a72-8838-141dc31bd06c"
      },
      "outputs": [
        {
          "output_type": "stream",
          "name": "stdout",
          "text": [
            "X_train shape: (1594,)\n",
            "X_test shape: (399,)\n",
            "Y_train shape: (1594,)\n",
            "Y_test shape: (399,)\n"
          ]
        }
      ],
      "source": [
        "X = data['content']\n",
        "Y = data['gold_label']\n",
        "\n",
        "from sklearn.model_selection import train_test_split\n",
        "X_train, X_test, Y_train, Y_test = train_test_split(X, Y, test_size=0.2, random_state=42)\n",
        "print(f\"X_train shape: {X_train.shape}\")\n",
        "print(f\"X_test shape: {X_test.shape}\")\n",
        "print(f\"Y_train shape: {Y_train.shape}\")\n",
        "print(f\"Y_test shape: {Y_test.shape}\")\n",
        "\n",
        "\n",
        "category_to_label = {\n",
        "    \"entertainment\": 0,\n",
        "    \"business\": 1,\n",
        "    \"sports\": 2,\n",
        "    \"science-technology\": 3,\n",
        "    \"international\": 4\n",
        "}\n",
        "\n",
        "Y_train = [category_to_label[label.strip()] for label in Y_train if label.strip() in category_to_label]\n",
        "Y_test = [category_to_label[label.strip()] for label in Y_test if label.strip() in category_to_label]\n"
      ]
    },
    {
      "cell_type": "markdown",
      "metadata": {
        "id": "y25-JlJgZo7r"
      },
      "source": [
        "<h2> Bag of Words <h2>\n"
      ]
    },
    {
      "cell_type": "code",
      "execution_count": 20,
      "metadata": {
        "id": "IrTAdmfdZo7r"
      },
      "outputs": [],
      "source": [
        "class TextProcessor:\n",
        "    def __init__(self, dataset):\n",
        "        self.dataset = dataset\n",
        "        self.vocabulary = {}\n",
        "\n",
        "    def build_vocabulary(self):\n",
        "        unique_words = set()\n",
        "        for sentence in self.dataset:\n",
        "            unique_words.update(sentence.split())\n",
        "        self.vocabulary = {word: idx for idx, word in enumerate(sorted(unique_words))}\n",
        "        return self.vocabulary\n",
        "\n",
        "    def sentence_to_bow(self, sentence):\n",
        "        words = sentence.split()\n",
        "        vector = np.zeros(len(self.vocabulary))\n",
        "        for word in words:\n",
        "            if word in self.vocabulary:\n",
        "                index = self.vocabulary[word]\n",
        "                # print(index)\n",
        "                vector[index] += 1\n",
        "        return vector\n",
        "\n",
        "    def vectorize_sentences(self, X):\n",
        "        return [self.sentence_to_bow(sentence) for sentence in X]\n"
      ]
    },
    {
      "cell_type": "code",
      "execution_count": 21,
      "metadata": {
        "id": "X4LH-0ozZo7s"
      },
      "outputs": [],
      "source": [
        "bag = TextProcessor(X_train)\n",
        "vocab = bag.build_vocabulary()\n",
        "train_x = bag.vectorize_sentences(X_train)\n",
        "test_x = bag.vectorize_sentences(X_test)\n",
        "# print(\"trainx\", train_x[0][12242])\n",
        "# print(vocab)"
      ]
    },
    {
      "cell_type": "markdown",
      "metadata": {
        "id": "QkjSKrQ5Zo7s"
      },
      "source": [
        "<h2> Neural Network Using Pytorch <h2>"
      ]
    },
    {
      "cell_type": "code",
      "execution_count": 22,
      "metadata": {
        "id": "4tbbn1VXZo7t"
      },
      "outputs": [],
      "source": [
        "import torch\n",
        "from torch.utils.data import DataLoader, TensorDataset\n",
        "train_x_t = torch.tensor(train_x, dtype=torch.float32)\n",
        "test_x_t = torch.tensor(test_x, dtype=torch.float32)\n",
        "Y_train_t = torch.tensor(Y_train, dtype=torch.long)\n",
        "Y_test_t = torch.tensor(Y_test, dtype=torch.long)\n",
        "\n",
        "train_dataset = TensorDataset(train_x_t,Y_train_t)\n",
        "test_dataset = TensorDataset(test_x_t,Y_test_t)\n",
        "\n",
        "train_loader = DataLoader(train_dataset, batch_size=64,shuffle=True)\n",
        "test_loader = DataLoader(test_dataset,batch_size=64,shuffle=True)"
      ]
    },
    {
      "cell_type": "code",
      "execution_count": 23,
      "metadata": {
        "id": "z3dWhtiEZo7t"
      },
      "outputs": [],
      "source": [
        "import torch.nn as nn\n",
        "import torch.nn.functional as F\n",
        "class NewsClassifier(nn.Module):\n",
        "    def __init__(self, input_size, num_classes):\n",
        "        super(NewsClassifier, self).__init__()\n",
        "        self.fc1 = nn.Linear(input_size, 128)\n",
        "        self.dropout = nn.Dropout(0.5)\n",
        "        self.fc4 = nn.Linear(128, num_classes)\n",
        "\n",
        "    def forward(self, x):\n",
        "        x = F.relu(self.fc1(x))\n",
        "        x = self.dropout(x)\n",
        "        x = self.fc4(x)\n",
        "        return x\n"
      ]
    },
    {
      "cell_type": "code",
      "execution_count": 24,
      "metadata": {
        "id": "pjGk3DfIZo7t"
      },
      "outputs": [],
      "source": [
        "input_size = train_x_t.shape[1]\n",
        "num_classes = len(Y_train_t.unique())\n",
        "model = NewsClassifier(input_size, num_classes)\n",
        "criterion = nn.CrossEntropyLoss()\n",
        "optimizer = torch.optim.Adam(model.parameters(), lr=0.0001,weight_decay=1e-5)"
      ]
    },
    {
      "cell_type": "code",
      "execution_count": 25,
      "metadata": {
        "colab": {
          "base_uri": "https://localhost:8080/"
        },
        "id": "_37nXBxxZo7t",
        "outputId": "da97619c-9093-419b-c979-976edeb11f90"
      },
      "outputs": [
        {
          "output_type": "stream",
          "name": "stdout",
          "text": [
            "Epoch [1/16], Loss: 1.5512\n",
            "Epoch [2/16], Loss: 1.3296\n",
            "Epoch [3/16], Loss: 1.0616\n",
            "Epoch [4/16], Loss: 0.8312\n",
            "Epoch [5/16], Loss: 0.6685\n",
            "Epoch [6/16], Loss: 0.5490\n",
            "Epoch [7/16], Loss: 0.4527\n",
            "Epoch [8/16], Loss: 0.3794\n",
            "Epoch [9/16], Loss: 0.3234\n",
            "Epoch [10/16], Loss: 0.2849\n",
            "Epoch [11/16], Loss: 0.2490\n",
            "Epoch [12/16], Loss: 0.2194\n",
            "Epoch [13/16], Loss: 0.1939\n",
            "Epoch [14/16], Loss: 0.1712\n",
            "Epoch [15/16], Loss: 0.1588\n",
            "Epoch [16/16], Loss: 0.1426\n"
          ]
        }
      ],
      "source": [
        "num_epochs = 16\n",
        "for epoch in range(num_epochs):\n",
        "    model.train()\n",
        "    total_loss = 0\n",
        "    for batch_x,batch_y in train_loader:\n",
        "        output = model(batch_x)\n",
        "        loss = criterion(output,batch_y)\n",
        "        optimizer.zero_grad()\n",
        "        loss.backward()\n",
        "        optimizer.step()\n",
        "        total_loss  += loss.item()\n",
        "\n",
        "    print(f\"Epoch [{epoch+1}/{num_epochs}], Loss: {total_loss/len(train_loader):.4f}\")\n"
      ]
    },
    {
      "cell_type": "code",
      "execution_count": 26,
      "metadata": {
        "colab": {
          "base_uri": "https://localhost:8080/"
        },
        "id": "tJX3mUfqZo7u",
        "outputId": "ef6846a0-73e9-4e8b-cc95-6e8b6e620af4"
      },
      "outputs": [
        {
          "output_type": "stream",
          "name": "stdout",
          "text": [
            "Training Accuracy: 0.96\n",
            "Test Accuracy: 0.96\n"
          ]
        }
      ],
      "source": [
        "def evaluate_model(loader, model):\n",
        "    model.eval()\n",
        "    correct = 0\n",
        "    total = 0\n",
        "    with torch.no_grad():\n",
        "        for batch_x,batch_y in test_loader:\n",
        "            output = model(batch_x)\n",
        "            _,predicted = torch.max(output,1)\n",
        "            total += batch_y.size(0)\n",
        "            correct += (predicted == batch_y).sum().item()\n",
        "\n",
        "    accuracy = correct / total\n",
        "    return accuracy\n",
        "\n",
        "train_accuracy = evaluate_model(train_loader, model)\n",
        "test_accuracy = evaluate_model(test_loader, model)\n",
        "print(f\"Training Accuracy: {train_accuracy:.2f}\")\n",
        "print(f\"Test Accuracy: {test_accuracy:.2f}\")\n"
      ]
    },
    {
      "cell_type": "markdown",
      "metadata": {
        "id": "X5l6KvEMZo7u"
      },
      "source": [
        "Use these for next models, all are in vector forms already and labels are also in represented numerically in Y_test, Y_train."
      ]
    },
    {
      "cell_type": "code",
      "execution_count": 27,
      "metadata": {
        "colab": {
          "base_uri": "https://localhost:8080/"
        },
        "id": "K8i5p1CmZo7u",
        "outputId": "9db8e706-d10b-4c4a-a1c0-24ed4e6eb271"
      },
      "outputs": [
        {
          "output_type": "stream",
          "name": "stdout",
          "text": [
            "\n",
            "Running KNN Classifier...\n",
            "KNN Accuracy: 0.79\n",
            "KNN Classification Report:\n",
            "               precision    recall  f1-score   support\n",
            "\n",
            "           0       0.72      0.83      0.77        72\n",
            "           1       0.67      0.85      0.75        67\n",
            "           2       0.91      0.89      0.90        98\n",
            "           3       0.83      0.68      0.75        88\n",
            "           4       0.83      0.70      0.76        74\n",
            "\n",
            "    accuracy                           0.79       399\n",
            "   macro avg       0.79      0.79      0.79       399\n",
            "weighted avg       0.80      0.79      0.79       399\n",
            "\n",
            "\n",
            "Running Logistic Regression...\n",
            "Logistic Regression Accuracy: 0.97\n",
            "Logistic Regression Classification Report:\n",
            "               precision    recall  f1-score   support\n",
            "\n",
            "           0       0.99      0.99      0.99        72\n",
            "           1       0.94      0.94      0.94        67\n",
            "           2       1.00      0.98      0.99        98\n",
            "           3       0.97      0.95      0.96        88\n",
            "           4       0.94      0.97      0.95        74\n",
            "\n",
            "    accuracy                           0.97       399\n",
            "   macro avg       0.97      0.97      0.97       399\n",
            "weighted avg       0.97      0.97      0.97       399\n",
            "\n",
            "\n",
            "Running Multinomial Naive Bayes...\n",
            "Multinomial Naive Bayes Accuracy: 0.97\n",
            "Multinomial Naive Bayes Classification Report:\n",
            "               precision    recall  f1-score   support\n",
            "\n",
            "           0       0.99      0.99      0.99        72\n",
            "           1       0.94      0.94      0.94        67\n",
            "           2       1.00      0.98      0.99        98\n",
            "           3       0.97      0.95      0.96        88\n",
            "           4       0.94      0.97      0.95        74\n",
            "\n",
            "    accuracy                           0.97       399\n",
            "   macro avg       0.97      0.97      0.97       399\n",
            "weighted avg       0.97      0.97      0.97       399\n",
            "\n",
            "\n",
            "Model Accuracies Summary:\n",
            "KNN: 0.79\n",
            "Logistic Regression: 0.97\n",
            "Multinomial Naive Bayes: 0.97\n"
          ]
        }
      ],
      "source": [
        "# train_x,test_x,Y_test,Y_train\n",
        "# vocab # for vocabulary of words\n",
        "# Import necessary libraries\n",
        "import numpy as np\n",
        "from sklearn.neighbors import KNeighborsClassifier\n",
        "from sklearn.linear_model import LogisticRegression\n",
        "from sklearn.naive_bayes import MultinomialNB\n",
        "from sklearn.metrics import accuracy_score, classification_report\n",
        "\n",
        "# Ensure train_x and test_x are NumPy arrays\n",
        "train_x = np.array(train_x)\n",
        "test_x = np.array(test_x)\n",
        "\n",
        "# Dictionary to store model accuracies\n",
        "model_accuracies = {}\n",
        "\n",
        "# 1. K-Nearest Neighbors (KNN)\n",
        "print(\"\\nRunning KNN Classifier...\")\n",
        "knn_model = KNeighborsClassifier(n_neighbors=1)  # You can adjust the number of neighbors\n",
        "knn_model.fit(train_x, Y_train)\n",
        "knn_predictions = knn_model.predict(test_x)\n",
        "knn_accuracy = accuracy_score(Y_test, knn_predictions)\n",
        "model_accuracies['KNN'] = knn_accuracy\n",
        "print(f\"KNN Accuracy: {knn_accuracy:.2f}\")\n",
        "print(\"KNN Classification Report:\\n\", classification_report(Y_test, knn_predictions))\n",
        "\n",
        "# 2. Logistic Regression\n",
        "print(\"\\nRunning Logistic Regression...\")\n",
        "logistic_model = LogisticRegression(max_iter=1000)  # Increase max_iter if needed\n",
        "logistic_model.fit(train_x, Y_train)\n",
        "logistic_predictions = logistic_model.predict(test_x)\n",
        "logistic_accuracy = accuracy_score(Y_test, logistic_predictions)\n",
        "model_accuracies['Logistic Regression'] = logistic_accuracy\n",
        "print(f\"Logistic Regression Accuracy: {logistic_accuracy:.2f}\")\n",
        "print(\"Logistic Regression Classification Report:\\n\", classification_report(Y_test, logistic_predictions))\n",
        "\n",
        "# 3. Multinomial Naive Bayes\n",
        "print(\"\\nRunning Multinomial Naive Bayes...\")\n",
        "nb_model = MultinomialNB()\n",
        "nb_model.fit(train_x, Y_train)\n",
        "nb_predictions = nb_model.predict(test_x)\n",
        "nb_accuracy = accuracy_score(Y_test, nb_predictions)\n",
        "model_accuracies['Multinomial Naive Bayes'] = nb_accuracy\n",
        "print(f\"Multinomial Naive Bayes Accuracy: {nb_accuracy:.2f}\")\n",
        "print(\"Multinomial Naive Bayes Classification Report:\\n\", classification_report(Y_test, nb_predictions))\n",
        "\n",
        "# Print summary of accuracies for all models\n",
        "print(\"\\nModel Accuracies Summary:\")\n",
        "for model_name, accuracy in model_accuracies.items():\n",
        "    print(f\"{model_name}: {accuracy:.2f}\")\n",
        "\n",
        "\n"
      ]
    },
    {
      "cell_type": "code",
      "source": [
        "#logistical regression with L2 regularization\n",
        "import numpy as np\n",
        "from sklearn.metrics import accuracy_score, classification_report, confusion_matrix\n",
        "\n",
        "class SoftmaxRegression:\n",
        "    def __init__(self, learning_rate=0.005, n_iterations=2000, regularization_strength=0.05, batch_size=32, dropout_rate=0.2):\n",
        "        self.learning_rate = learning_rate\n",
        "        self.n_iterations = n_iterations\n",
        "        self.regularization_strength = regularization_strength\n",
        "        self.batch_size = batch_size\n",
        "        self.dropout_rate = dropout_rate\n",
        "        self.weights = None\n",
        "        self.bias = None\n",
        "\n",
        "    def softmax(self, z):\n",
        "        exp_z = np.exp(z - np.max(z, axis=1, keepdims=True))\n",
        "        return exp_z / np.sum(exp_z, axis=1, keepdims=True)\n",
        "\n",
        "    def cross_entropy_loss(self, y_true, y_pred):\n",
        "        n_samples = y_true.shape[0]\n",
        "        log_likelihood = -np.log(y_pred[range(n_samples), y_true])\n",
        "        loss = np.sum(log_likelihood) / n_samples\n",
        "        reg_term = (self.regularization_strength / 2) * np.sum(self.weights ** 2)\n",
        "        return loss + reg_term\n",
        "\n",
        "    def fit(self, X, y):\n",
        "        n_samples, n_features = X.shape\n",
        "        n_classes = np.max(y) + 1\n",
        "        self.weights = np.random.randn(n_features, n_classes) * np.sqrt(2 / (n_features + n_classes))\n",
        "        self.bias = np.zeros(n_classes)\n",
        "\n",
        "\n",
        "        y_one_hot = np.zeros((n_samples, n_classes))\n",
        "        y_one_hot[np.arange(n_samples), y] = 1\n",
        "\n",
        "        for epoch in range(self.n_iterations):\n",
        "            indices = np.arange(n_samples)\n",
        "            np.random.shuffle(indices)\n",
        "            for i in range(0, n_samples, self.batch_size):\n",
        "                batch_indices = indices[i:i + self.batch_size]\n",
        "                X_batch = X[batch_indices]\n",
        "                y_batch = y_one_hot[batch_indices]\n",
        "\n",
        "                #dropout apply kardo to prevent overfitting\n",
        "                X_batch = X_batch * (np.random.rand(*X_batch.shape) > self.dropout_rate)\n",
        "\n",
        "\n",
        "                linear_model = np.dot(X_batch, self.weights) + self.bias\n",
        "                y_pred = self.softmax(linear_model)\n",
        "\n",
        "\n",
        "                dw = (1 / self.batch_size) * np.dot(X_batch.T, (y_pred - y_batch)) + self.regularization_strength * self.weights\n",
        "                db = (1 / self.batch_size) * np.sum(y_pred - y_batch, axis=0)\n",
        "\n",
        "\n",
        "                self.weights -= self.learning_rate * dw\n",
        "                self.bias -= self.learning_rate * db\n",
        "\n",
        "\n",
        "            # if epoch % 100 == 0:\n",
        "            #     loss = self.cross_entropy_loss(y, self.softmax(np.dot(X, self.weights) + self.bias))\n",
        "            #     print(f\"Epoch {epoch}, Loss: {loss:.4f}\")\n",
        "\n",
        "    def predict(self, X):\n",
        "        linear_model = np.dot(X, self.weights) + self.bias\n",
        "        y_pred = self.softmax(linear_model)\n",
        "        return np.argmax(y_pred, axis=1)\n",
        "\n",
        "\n",
        "# Train and evaluate the model(yahan we can make changes to the hyperparameters)\n",
        "softmax_model = SoftmaxRegression(\n",
        "    learning_rate=0.002,  #isko change karkay dheksaktay hain to improve accuracy\n",
        "    n_iterations=2000,\n",
        "    regularization_strength=0.05,\n",
        "    batch_size=32,\n",
        "    dropout_rate=0.2\n",
        ")\n",
        "\n",
        "softmax_model.fit(train_x, Y_train)\n",
        "y_pred = softmax_model.predict(test_x)\n",
        "\n",
        "accuracy = accuracy_score(Y_test, y_pred)\n",
        "print(f\"Accuracy: {accuracy:.2f}\")\n",
        "print(\"\\nClassification Report:\")\n",
        "print(classification_report(Y_test, y_pred))\n",
        "print(\"\\nConfusion Matrix:\")\n",
        "print(confusion_matrix(Y_test, y_pred))\n"
      ],
      "metadata": {
        "id": "KrlGOzeDf0kJ",
        "outputId": "f72a9b47-fdc3-45b7-b8cd-2f3f0900f170",
        "colab": {
          "base_uri": "https://localhost:8080/"
        }
      },
      "execution_count": 32,
      "outputs": [
        {
          "output_type": "stream",
          "name": "stdout",
          "text": [
            "Epoch 0, Loss: 1.5866\n",
            "Epoch 100, Loss: 0.4253\n",
            "Epoch 200, Loss: 0.3580\n",
            "Epoch 300, Loss: 0.3357\n",
            "Epoch 400, Loss: 0.3276\n",
            "Epoch 500, Loss: 0.3248\n",
            "Epoch 600, Loss: 0.3236\n",
            "Epoch 700, Loss: 0.3232\n",
            "Epoch 800, Loss: 0.3231\n",
            "Epoch 900, Loss: 0.3231\n",
            "Epoch 1000, Loss: 0.3229\n",
            "Epoch 1100, Loss: 0.3229\n",
            "Epoch 1200, Loss: 0.3231\n",
            "Epoch 1300, Loss: 0.3230\n",
            "Epoch 1400, Loss: 0.3230\n",
            "Epoch 1500, Loss: 0.3232\n",
            "Epoch 1600, Loss: 0.3230\n",
            "Epoch 1700, Loss: 0.3230\n",
            "Epoch 1800, Loss: 0.3231\n",
            "Epoch 1900, Loss: 0.3229\n",
            "Accuracy: 0.96\n",
            "\n",
            "Classification Report:\n",
            "              precision    recall  f1-score   support\n",
            "\n",
            "           0       0.99      0.97      0.98        72\n",
            "           1       0.95      0.94      0.95        67\n",
            "           2       1.00      0.98      0.99        98\n",
            "           3       0.93      0.93      0.93        88\n",
            "           4       0.92      0.97      0.95        74\n",
            "\n",
            "    accuracy                           0.96       399\n",
            "   macro avg       0.96      0.96      0.96       399\n",
            "weighted avg       0.96      0.96      0.96       399\n",
            "\n",
            "\n",
            "Confusion Matrix:\n",
            "[[70  1  0  1  0]\n",
            " [ 0 63  0  1  3]\n",
            " [ 0  0 96  2  0]\n",
            " [ 1  2  0 82  3]\n",
            " [ 0  0  0  2 72]]\n"
          ]
        }
      ]
    }
  ],
  "metadata": {
    "kernelspec": {
      "display_name": "Python 3",
      "name": "python3"
    },
    "language_info": {
      "codemirror_mode": {
        "name": "ipython",
        "version": 3
      },
      "file_extension": ".py",
      "mimetype": "text/x-python",
      "name": "python",
      "nbconvert_exporter": "python",
      "pygments_lexer": "ipython3",
      "version": "3.12.6"
    },
    "colab": {
      "provenance": [],
      "gpuType": "T4",
      "include_colab_link": true
    },
    "accelerator": "GPU"
  },
  "nbformat": 4,
  "nbformat_minor": 0
}