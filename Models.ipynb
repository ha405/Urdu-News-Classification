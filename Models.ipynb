{
 "cells": [
  {
   "cell_type": "markdown",
   "metadata": {},
   "source": [
    "<h1> MODEL IMPLEMENTATIONS <h1>"
   ]
  },
  {
   "cell_type": "markdown",
   "metadata": {},
   "source": [
    "<h2> Imports <h2>"
   ]
  },
  {
   "cell_type": "code",
   "execution_count": 2,
   "metadata": {},
   "outputs": [],
   "source": [
    "import pandas as pd\n",
    "import numpy as np\n",
    "import matplotlib.pyplot as plt\n",
    "# import cupy as cp\n",
    "import sklearn"
   ]
  },
  {
   "cell_type": "markdown",
   "metadata": {},
   "source": [
    "<h2> Import and Split <h2>"
   ]
  },
  {
   "cell_type": "code",
   "execution_count": 3,
   "metadata": {},
   "outputs": [],
   "source": [
    "path = r\"Dataset\\articles.csv\"\n",
    "data = pd.read_csv(path)\n",
    "# print(data.head())"
   ]
  },
  {
   "cell_type": "code",
   "execution_count": 4,
   "metadata": {},
   "outputs": [
    {
     "name": "stdout",
     "output_type": "stream",
     "text": [
      "X_train shape: (1594,)\n",
      "X_test shape: (399,)\n",
      "Y_train shape: (1594,)\n",
      "Y_test shape: (399,)\n"
     ]
    }
   ],
   "source": [
    "X = data['content']\n",
    "Y = data['gold_label']\n",
    "\n",
    "from sklearn.model_selection import train_test_split\n",
    "X_train, X_test, Y_train, Y_test = train_test_split(X, Y, test_size=0.2, random_state=42)\n",
    "print(f\"X_train shape: {X_train.shape}\")\n",
    "print(f\"X_test shape: {X_test.shape}\")\n",
    "print(f\"Y_train shape: {Y_train.shape}\")\n",
    "print(f\"Y_test shape: {Y_test.shape}\")\n",
    "\n",
    "\n",
    "category_to_label = {\n",
    "    \"entertainment\": 0,\n",
    "    \"business\": 1,\n",
    "    \"sports\": 2,\n",
    "    \"science-technology\": 3,\n",
    "    \"international\": 4\n",
    "}\n",
    "\n",
    "Y_train = [category_to_label[label.strip()] for label in Y_train if label.strip() in category_to_label]\n",
    "Y_test = [category_to_label[label.strip()] for label in Y_test if label.strip() in category_to_label]\n"
   ]
  },
  {
   "cell_type": "markdown",
   "metadata": {},
   "source": [
    "<h2> Bag of Words <h2>\n"
   ]
  },
  {
   "cell_type": "code",
   "execution_count": 64,
   "metadata": {},
   "outputs": [],
   "source": [
    "class TextProcessor:\n",
    "    def __init__(self, dataset):\n",
    "        self.dataset = dataset\n",
    "        self.vocabulary = {}\n",
    "    \n",
    "    def build_vocabulary(self):\n",
    "        unique_words = set()\n",
    "        for sentence in self.dataset:\n",
    "            unique_words.update(sentence.split())\n",
    "        self.vocabulary = {word: idx for idx, word in enumerate(sorted(unique_words))}\n",
    "        return self.vocabulary\n",
    "    \n",
    "    def sentence_to_bow(self, sentence):\n",
    "        words = sentence.split()\n",
    "        vector = np.zeros(len(self.vocabulary))\n",
    "        for word in words:\n",
    "            if word in self.vocabulary:\n",
    "                index = self.vocabulary[word]\n",
    "                # print(index)\n",
    "                vector[index] += 1\n",
    "        return vector\n",
    "    \n",
    "    def vectorize_sentences(self, X):\n",
    "        return [self.sentence_to_bow(sentence) for sentence in X]\n"
   ]
  },
  {
   "cell_type": "code",
   "execution_count": 65,
   "metadata": {},
   "outputs": [],
   "source": [
    "bag = TextProcessor(X_train)\n",
    "vocab = bag.build_vocabulary()\n",
    "train_x = bag.vectorize_sentences(X_train)\n",
    "test_x = bag.vectorize_sentences(X_test)\n",
    "# print(\"trainx\", train_x[0][12242])\n",
    "# print(vocab)"
   ]
  },
  {
   "cell_type": "markdown",
   "metadata": {},
   "source": [
    "<h2> Neural Network Using Pytorch <h2>"
   ]
  },
  {
   "cell_type": "code",
   "execution_count": null,
   "metadata": {},
   "outputs": [],
   "source": [
    "import torch\n",
    "from torch.utils.data import DataLoader, TensorDataset\n",
    "train_x = torch.tensor(train_x, dtype=torch.float32)\n",
    "test_x = torch.tensor(test_x, dtype=torch.float32)\n",
    "Y_train = torch.tensor(Y_train, dtype=torch.long)\n",
    "Y_test = torch.tensor(Y_test, dtype=torch.long)\n",
    "\n",
    "batch_size = 64\n",
    "train_dataset = TensorDataset(train_x, Y_train)\n",
    "test_dataset = TensorDataset(test_x, Y_test)\n",
    "\n",
    "train_loader = DataLoader(train_dataset, batch_size=batch_size, shuffle=True)\n",
    "test_loader = DataLoader(test_dataset, batch_size=batch_size, shuffle=False)"
   ]
  },
  {
   "cell_type": "code",
   "execution_count": 43,
   "metadata": {},
   "outputs": [],
   "source": [
    "import torch.nn as nn\n",
    "import torch.nn.functional as F\n",
    "class NewsClassifier(nn.Module):\n",
    "    def __init__(self, input_size, num_classes):\n",
    "        super(NewsClassifier, self).__init__()\n",
    "        self.fc1 = nn.Linear(input_size, 128)\n",
    "        self.dropout = nn.Dropout(0.5) \n",
    "        self.fc4 = nn.Linear(128, num_classes)\n",
    "\n",
    "    def forward(self, x):\n",
    "        x = F.relu(self.fc1(x))\n",
    "        x = self.dropout(x)  \n",
    "        x = self.fc4(x)\n",
    "        return x\n"
   ]
  },
  {
   "cell_type": "code",
   "execution_count": 60,
   "metadata": {},
   "outputs": [],
   "source": [
    "input_size = train_x.shape[1]\n",
    "num_classes = len(Y_train.unique())\n",
    "model = NewsClassifier(input_size, num_classes)\n",
    "criterion = nn.CrossEntropyLoss()\n",
    "optimizer = torch.optim.Adam(model.parameters(), lr=0.0001, weight_decay=1e-5)\n"
   ]
  },
  {
   "cell_type": "code",
   "execution_count": 61,
   "metadata": {},
   "outputs": [
    {
     "name": "stdout",
     "output_type": "stream",
     "text": [
      "Epoch [1/15], Loss: 1.5415\n",
      "Epoch [2/15], Loss: 1.3203\n",
      "Epoch [3/15], Loss: 1.0694\n",
      "Epoch [4/15], Loss: 0.8575\n",
      "Epoch [5/15], Loss: 0.6859\n",
      "Epoch [6/15], Loss: 0.5591\n",
      "Epoch [7/15], Loss: 0.4706\n",
      "Epoch [8/15], Loss: 0.3943\n",
      "Epoch [9/15], Loss: 0.3349\n",
      "Epoch [10/15], Loss: 0.2903\n",
      "Epoch [11/15], Loss: 0.2567\n",
      "Epoch [12/15], Loss: 0.2264\n",
      "Epoch [13/15], Loss: 0.2011\n",
      "Epoch [14/15], Loss: 0.1759\n",
      "Epoch [15/15], Loss: 0.1601\n"
     ]
    }
   ],
   "source": [
    "num_epochs = 15\n",
    "for epoch in range(num_epochs):\n",
    "    model.train()\n",
    "    total_loss = 0\n",
    "\n",
    "    for batch_x, batch_y in train_loader:\n",
    "        outputs = model(batch_x)\n",
    "        loss = criterion(outputs, batch_y)\n",
    "        optimizer.zero_grad()\n",
    "        loss.backward()\n",
    "        optimizer.step()\n",
    "        total_loss += loss.item()\n",
    "    \n",
    "    print(f\"Epoch [{epoch+1}/{num_epochs}], Loss: {total_loss/len(train_loader):.4f}\")\n"
   ]
  },
  {
   "cell_type": "code",
   "execution_count": 62,
   "metadata": {},
   "outputs": [
    {
     "name": "stdout",
     "output_type": "stream",
     "text": [
      "Training Accuracy: 0.99\n",
      "Test Accuracy: 0.97\n"
     ]
    }
   ],
   "source": [
    "def evaluate_model(loader, model):\n",
    "    model.eval()\n",
    "    correct = 0\n",
    "    total = 0\n",
    "    \n",
    "    with torch.no_grad():\n",
    "        for batch_x, batch_y in loader:\n",
    "            outputs = model(batch_x)\n",
    "            _, predicted = torch.max(outputs, 1)  \n",
    "            total += batch_y.size(0)\n",
    "            correct += (predicted == batch_y).sum().item()\n",
    "    \n",
    "    accuracy = correct / total\n",
    "    return accuracy\n",
    "\n",
    "train_accuracy = evaluate_model(train_loader, model)\n",
    "test_accuracy = evaluate_model(test_loader, model)\n",
    "print(f\"Training Accuracy: {train_accuracy:.2f}\")\n",
    "print(f\"Test Accuracy: {test_accuracy:.2f}\")\n"
   ]
  },
  {
   "cell_type": "markdown",
   "metadata": {},
   "source": [
    "Use these for next models, all are in vector forms already and labels are also in represented numerically in Y_test, Y_train."
   ]
  },
  {
   "cell_type": "code",
   "execution_count": null,
   "metadata": {},
   "outputs": [],
   "source": [
    "train_x,test_x,Y_test,Y_train\n",
    "vocab # for vocabulary of words"
   ]
  }
 ],
 "metadata": {
  "kernelspec": {
   "display_name": "Python 3",
   "language": "python",
   "name": "python3"
  },
  "language_info": {
   "codemirror_mode": {
    "name": "ipython",
    "version": 3
   },
   "file_extension": ".py",
   "mimetype": "text/x-python",
   "name": "python",
   "nbconvert_exporter": "python",
   "pygments_lexer": "ipython3",
   "version": "3.12.6"
  }
 },
 "nbformat": 4,
 "nbformat_minor": 2
}
